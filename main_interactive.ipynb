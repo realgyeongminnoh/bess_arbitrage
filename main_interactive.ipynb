{
 "cells": [
  {
   "cell_type": "markdown",
   "id": "d8b9f775",
   "metadata": {},
   "source": [
    "**RECOMMENDATION: RESTART THE NOTEBOOK FOR EACH SECTION**"
   ]
  },
  {
   "cell_type": "markdown",
   "id": "f0ba852b",
   "metadata": {},
   "source": [
    "---\n",
    "---\n",
    "---\n",
    "**EXAMPLE: OPTIMIZATION OF SINGLE MONTH OPERATION FOR SINGLE BESS CONFIGURATION** (HOUR-LEVEL GRANURALITY)"
   ]
  },
  {
   "cell_type": "code",
   "execution_count": 1,
   "id": "fd87a0ff",
   "metadata": {},
   "outputs": [
    {
     "name": "stdout",
     "output_type": "stream",
     "text": [
      "\n",
      "Set parameter Username\n",
      "Set parameter LicenseID to value 2659802\n",
      "Academic license - for non-commercial use only - expires 2026-05-01\n"
     ]
    }
   ],
   "source": [
    "import numpy as np\n",
    "\n",
    "from src.utils import *\n",
    "from src import *\n",
    "suppress_gurobi_parallel_spam()"
   ]
  },
  {
   "cell_type": "code",
   "execution_count": 2,
   "id": "ea2d7de8",
   "metadata": {},
   "outputs": [],
   "source": [
    "timeseries = Timeseries(\n",
    "    is_minute=False, # False -> hour-level granurality\n",
    "    is_historical=True, \n",
    "    end_exclude=True, # True -> subtract one hour from given time_end\n",
    "    time_start=2022090100, \n",
    "    time_end=2022100100,\n",
    ")\n",
    "    \n",
    "parameter = Parameter(\n",
    "    timeseries,\n",
    "    parameter_pnnl=True, \n",
    "    pnnl_year=2023, # 2023 / 2030\n",
    "    pnnl_technology=\"Lithium-ion_LFP\", # Lithium-ion_LFP / Lithium-ion_NMC / Lead_Acid / Zinc / Vanadium_Redox_Flow\n",
    "    pnnl_estimate=\"Point\", # Point / Low / High\n",
    "    pnnl_fxrate=1333, # FX rate (USDKRW) for the given period (used for OpEX & CapEX)\n",
    ")"
   ]
  },
  {
   "cell_type": "code",
   "execution_count": 3,
   "id": "eeb19564",
   "metadata": {},
   "outputs": [
    {
     "name": "stdout",
     "output_type": "stream",
     "text": [
      " [*CONFIGS FROM PNNL*]\n",
      " [**FOR GIVEN SPECS**]\n",
      " [zero  MWh   MW   hr]\n",
      " [ idx  CAP  PWR  DUR]\n",
      "[[   0    2    1    2]\n",
      " [   1    4    1    4]\n",
      " [   2    6    1    6]\n",
      " [   3    8    1    8]\n",
      " [   4   10    1   10]\n",
      " [   5   20   10    2]\n",
      " [   6   24    1   24]\n",
      " [   7   40   10    4]\n",
      " [   8   60   10    6]\n",
      " [   9   80   10    8]\n",
      " [  10  100    1  100]\n",
      " [  11  100   10   10]\n",
      " [  12  200  100    2]\n",
      " [  13  240   10   24]\n",
      " [  14  400  100    4]\n",
      " [  15  600  100    6]\n",
      " [  16  800  100    8]\n",
      " [  17 1000   10  100]\n",
      " [  18 1000  100   10]]\n"
     ]
    }
   ],
   "source": [
    "print_bess_config(parameter)"
   ]
  },
  {
   "cell_type": "code",
   "execution_count": 4,
   "id": "6e74605c",
   "metadata": {},
   "outputs": [],
   "source": [
    "# bess idx\n",
    "idx_config = 3"
   ]
  },
  {
   "cell_type": "code",
   "execution_count": 5,
   "id": "9a0be443",
   "metadata": {},
   "outputs": [],
   "source": [
    "solver = Solver(\n",
    "    timeseries,\n",
    "    parameter,\n",
    "    do_single=True, # returns model if only single configuration\n",
    "    idx_config=idx_config,\n",
    "    do_efficiency=True, # charging and discharging efficiency\n",
    "    do_rest=True, # rest before charge & rest after charge\n",
    ")\n",
    "\n",
    "solver = solver.solve()"
   ]
  },
  {
   "cell_type": "code",
   "execution_count": null,
   "id": "b4819b3a",
   "metadata": {},
   "outputs": [
    {
     "name": "stdout",
     "output_type": "stream",
     "text": [
      "6,855,398 KRW\n"
     ]
    }
   ],
   "source": [
    "net_arbitrage_revenue = solver.model.ObjVal\n",
    "print(f\"{net_arbitrage_revenue:,.0f} KRW\")"
   ]
  },
  {
   "cell_type": "markdown",
   "id": "543e65e7",
   "metadata": {},
   "source": [
    "---\n",
    "---\n",
    "---\n",
    "**EXAMPLE: OPTIMIZATION OF 12 MONTHS OPERATION FOR SINGLE BESS CONFIGURATION** (HOUR-LEVEL GRANURALITY)"
   ]
  },
  {
   "cell_type": "code",
   "execution_count": 7,
   "id": "801cc4f6",
   "metadata": {},
   "outputs": [
    {
     "name": "stdout",
     "output_type": "stream",
     "text": [
      "\n"
     ]
    }
   ],
   "source": [
    "import numpy as np\n",
    "\n",
    "from src.utils import *\n",
    "from src import *\n",
    "suppress_gurobi_parallel_spam()"
   ]
  },
  {
   "cell_type": "code",
   "execution_count": 8,
   "id": "29167d88",
   "metadata": {},
   "outputs": [],
   "source": [
    "# bess idx\n",
    "idx_config = 12"
   ]
  },
  {
   "cell_type": "code",
   "execution_count": 9,
   "id": "3035eddd",
   "metadata": {},
   "outputs": [],
   "source": [
    "# replaced by bash commands (capitalized)\n",
    "DATE = np.concatenate((np.arange(0, 120000, 10000) + 2022010100, np.array([2023010100])))\n",
    "ITERATOR = enumerate(zip(DATE[:-1].tolist(), DATE[1:].tolist()))"
   ]
  },
  {
   "cell_type": "code",
   "execution_count": 10,
   "id": "84d7ac13",
   "metadata": {},
   "outputs": [],
   "source": [
    "TOTAL_NET_ARBITRAGE_REVENUE = 0\n",
    "\n",
    "for IDX_MONTH, (TIME_START, TIME_END) in ITERATOR:\n",
    "\n",
    "    timeseries = Timeseries(\n",
    "        is_minute=False, \n",
    "        is_historical=True, \n",
    "        end_exclude=True, \n",
    "        time_start=TIME_START, \n",
    "        time_end=TIME_END,\n",
    "    )\n",
    "        \n",
    "    parameter = Parameter(\n",
    "        timeseries,\n",
    "        parameter_pnnl=True, \n",
    "        pnnl_year=2023,\n",
    "        pnnl_technology=\"Lithium-ion_LFP\",\n",
    "        pnnl_estimate=\"Point\",\n",
    "        pnnl_fxrate=1333, # advised to keep the rate identical for all months for simpler CapEX calculation\n",
    "    )\n",
    "\n",
    "    solver = Solver(\n",
    "        timeseries,\n",
    "        parameter,\n",
    "        do_single=False, # returns model if only single configuration\n",
    "        idx_config=idx_config,\n",
    "        do_efficiency=True,\n",
    "        do_rest=True,\n",
    "    )\n",
    "\n",
    "    TOTAL_NET_ARBITRAGE_REVENUE += solver.solve()"
   ]
  },
  {
   "cell_type": "code",
   "execution_count": 11,
   "id": "1bf70c35",
   "metadata": {},
   "outputs": [
    {
     "name": "stdout",
     "output_type": "stream",
     "text": [
      "1,775,336,819 KRW\n"
     ]
    }
   ],
   "source": [
    "print(f\"{TOTAL_NET_ARBITRAGE_REVENUE:,.0f} KRW\")"
   ]
  }
 ],
 "metadata": {
  "kernelspec": {
   "display_name": "base",
   "language": "python",
   "name": "python3"
  },
  "language_info": {
   "codemirror_mode": {
    "name": "ipython",
    "version": 3
   },
   "file_extension": ".py",
   "mimetype": "text/x-python",
   "name": "python",
   "nbconvert_exporter": "python",
   "pygments_lexer": "ipython3",
   "version": "3.12.2"
  }
 },
 "nbformat": 4,
 "nbformat_minor": 5
}
