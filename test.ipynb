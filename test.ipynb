{
 "cells": [
  {
   "cell_type": "code",
   "execution_count": 29,
   "id": "c86f089c",
   "metadata": {},
   "outputs": [],
   "source": [
    "from pathlib import Path\n",
    "import csv\n",
    "import numpy as np\n",
    "\n",
    "from src.utils import convert_date_int_to_datetime64"
   ]
  },
  {
   "cell_type": "code",
   "execution_count": 30,
   "id": "b13517b2",
   "metadata": {},
   "outputs": [],
   "source": [
    "date_start_int = 20240601\n",
    "date_end_int = 20240607\n",
    "time_start = convert_date_int_to_datetime64(date_start_int, False)\n",
    "time_end = convert_date_int_to_datetime64(date_end_int, True)"
   ]
  },
  {
   "cell_type": "code",
   "execution_count": 31,
   "id": "c09602e9",
   "metadata": {},
   "outputs": [],
   "source": [
    "xd = np.arange(0, 8).tolist()\n",
    "xd += [time_start, time_end, date_start_int, date_end_int]"
   ]
  },
  {
   "cell_type": "code",
   "execution_count": null,
   "id": "d558f924",
   "metadata": {},
   "outputs": [],
   "source": [
    "path_csv = Path.cwd() / \"data\" / \"outputs\" / \"custom\" / \"result.csv\"\n",
    "\n",
    "if not path_csv.exists():\n",
    "\n",
    "    header = [\n",
    "        \"time_start\",\n",
    "        \"time_end\",\n",
    "        \"custom_index\",\n",
    "        \"return_detail\",\n",
    "        \"use_smp_ref\",\n",
    "        \"time_horizon_idx_smp\",\n",
    "        \"time_horizon_idx_smp_ref\",\n",
    "        \"discharging_revenue\",\n",
    "        \"charging_cost\",\n",
    "        \"arbitrage_profit\",\n",
    "        \"ecr\",\n",
    "        \"por\",\n",
    "        \"soh\",\n",
    "        \"soc_ini\",\n",
    "        \"soc_min\",\n",
    "        \"soc_max\",\n",
    "        \"sdr\",\n",
    "        \"ec\",\n",
    "        \"ed\",\n",
    "        \"rbc\",\n",
    "        \"rad\",\n",
    "    ]\n",
    "\n",
    "    with path_csv.open(\"w\", newline=\"\") as f:\n",
    "        writer = csv.writer(f)\n",
    "        writer.writerow(header)\n",
    "\n",
    "with path_csv.open(\"a\", newline=\"\") as f:\n",
    "    writer = csv.writer(f)\n",
    "    writer.writerow(xd)"
   ]
  },
  {
   "cell_type": "code",
   "execution_count": null,
   "id": "1fbedcbe",
   "metadata": {},
   "outputs": [],
   "source": [
    "discharging_revenue\n",
    "charging_cost\n",
    "arbitrage_profit"
   ]
  }
 ],
 "metadata": {
  "kernelspec": {
   "display_name": "base",
   "language": "python",
   "name": "python3"
  },
  "language_info": {
   "codemirror_mode": {
    "name": "ipython",
    "version": 3
   },
   "file_extension": ".py",
   "mimetype": "text/x-python",
   "name": "python",
   "nbconvert_exporter": "python",
   "pygments_lexer": "ipython3",
   "version": "3.12.2"
  }
 },
 "nbformat": 4,
 "nbformat_minor": 5
}
