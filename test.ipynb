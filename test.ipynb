{
 "cells": [
  {
   "cell_type": "code",
   "execution_count": null,
   "id": "779c9d02",
   "metadata": {},
   "outputs": [],
   "source": [
    "import argparse\n",
    "from pathlib import Path\n",
    "import pandas as pd\n",
    "\n",
    "from src.parameter import Parameter\n",
    "from src.operation_optimization import optimize\n",
    "from src.utils import suppress_gurobi_parallel_spam, convert_date_int_to_datetime64, get_smp"
   ]
  },
  {
   "cell_type": "code",
   "execution_count": 16,
   "id": "914cba41",
   "metadata": {},
   "outputs": [],
   "source": [
    "def parse_args():\n",
    "    parser = argparse.ArgumentParser()\n",
    "    # time-related\n",
    "    parser.add_argument(\"--time_horizon_idx_smp\", \"--thn_smp\", type=int, required=True)\n",
    "    parser.add_argument(\"--time_horizon_idx_smp_ref\", \"--thn_smp_ref\", type=int, default=0)\n",
    "    # solver bool flags\n",
    "    parser.add_argument(\"--use_smp_ref\", \"--usr\", action=\"store_true\")\n",
    "\n",
    "    return parser.parse_args()"
   ]
  },
  {
   "cell_type": "code",
   "execution_count": null,
   "id": "50d60f90",
   "metadata": {},
   "outputs": [
    {
     "ename": "SyntaxError",
     "evalue": "expected argument value expression (3329328807.py, line 3)",
     "output_type": "error",
     "traceback": [
      "\u001b[0;36m  Cell \u001b[0;32mIn[17], line 3\u001b[0;36m\u001b[0m\n\u001b[0;31m    smp=,\u001b[0m\n\u001b[0m    ^\u001b[0m\n\u001b[0;31mSyntaxError\u001b[0m\u001b[0;31m:\u001b[0m expected argument value expression\n"
     ]
    }
   ],
   "source": [
    "return optimize(\n",
    "    parameter=parameter,\n",
    "    smp=,\n",
    "    smp_ref=     ,\n",
    "    return_detail=False,\n",
    ")"
   ]
  },
  {
   "cell_type": "code",
   "execution_count": null,
   "id": "ef6f70e0",
   "metadata": {},
   "outputs": [],
   "source": [
    "# def main():\n",
    "#     args = parse_args()\n",
    "\n",
    "class Args:\n",
    "    def __init__(self):\n",
    "        self.time_horizon_idx_smp = 0\n",
    "        self.time_horizon_idx_smp_ref = 0\n",
    "        self.use_smp_ref = True\n",
    "\n",
    "args = Args()"
   ]
  },
  {
   "cell_type": "code",
   "execution_count": 45,
   "id": "ebc1e13c",
   "metadata": {},
   "outputs": [],
   "source": [
    "names_csv_file = [\n",
    "    \"Lithium-ion_LFP_2023_Neutral.csv\",\n",
    "    \"Lithium-ion_LFP_2030_Neutral.csv\",\n",
    "    \"Lithium-ion_LFP_2030_Optimistic.csv\",\n",
    "    \"Lithium-ion_LFP_2030_Pessimistic.csv\",\n",
    "    \"Lithium-ion_NMC_2023_Neutral.csv\",\n",
    "    \"Lead_Acid_2023_Neutral.csv\",\n",
    "    \"Vanadium_Redox_Flow_2023_Neutral.csv\",\n",
    "]\n",
    "\n",
    "path_inputs_pnnl_folder = Path.cwd() / \"data\" / \"inputs\" / \"pnnl\"\n",
    "path_outputs_pnnl_folder = (\n",
    "    Path.cwd() / \"data\" / \"outputs\" / \"pnnl\" / \n",
    "    f\"time_horizon_{args.time_horizon_idx_smp}_ref_{args.time_horizon_idx_smp_ref if args.use_smp_ref else args.time_horizon_idx_smp}\"\n",
    ")\n",
    "path_outputs_pnnl_folder.mkdir(parents=True, exist_ok=True)"
   ]
  },
  {
   "cell_type": "code",
   "execution_count": null,
   "id": "929d4dd3",
   "metadata": {},
   "outputs": [],
   "source": [
    "# def per_csv(name_csv_file, path_inputs_csv_file, path_outputs_csv_file):\n",
    "    # print()"
   ]
  },
  {
   "cell_type": "code",
   "execution_count": 60,
   "id": "23e56556",
   "metadata": {},
   "outputs": [
    {
     "data": {
      "text/plain": [
       "'Lithium-ion_LFP_2023_Neutral'"
      ]
     },
     "execution_count": 60,
     "metadata": {},
     "output_type": "execute_result"
    }
   ],
   "source": [
    "name_csv_file[:-4]"
   ]
  },
  {
   "cell_type": "code",
   "execution_count": 58,
   "id": "f153486a",
   "metadata": {},
   "outputs": [
    {
     "data": {
      "text/plain": [
       "array([[2.00000000e+03, 1.00000000e+03, 1.00000000e-01, 9.00000000e-01,\n",
       "        9.10000000e-01, 3.00000000e+00, 4.22561000e+06, 1.38749304e+09],\n",
       "       [4.00000000e+03, 1.00000000e+03, 1.00000000e-01, 9.00000000e-01,\n",
       "        9.10000000e-01, 2.00000000e+00, 7.29151000e+06, 2.45501276e+09],\n",
       "       [6.00000000e+03, 1.00000000e+03, 1.00000000e-01, 9.00000000e-01,\n",
       "        9.10000000e-01, 1.00000000e+00, 9.30434000e+06, 3.53039718e+09],\n",
       "       [8.00000000e+03, 1.00000000e+03, 1.00000000e-01, 9.00000000e-01,\n",
       "        9.10000000e-01, 0.00000000e+00, 1.16770800e+07, 4.60396872e+09],\n",
       "       [2.00000000e+04, 1.00000000e+04, 1.00000000e-01, 9.00000000e-01,\n",
       "        9.10000000e-01, 3.00000000e+00, 3.71907000e+07, 1.20561852e+10],\n",
       "       [4.00000000e+04, 1.00000000e+04, 1.00000000e-01, 9.00000000e-01,\n",
       "        9.10000000e-01, 2.00000000e+00, 6.11847000e+07, 2.15762046e+10],\n",
       "       [6.00000000e+04, 1.00000000e+04, 1.00000000e-01, 9.00000000e-01,\n",
       "        9.10000000e-01, 1.00000000e+00, 8.49121000e+07, 3.13365639e+10],\n",
       "       [8.00000000e+04, 1.00000000e+04, 1.00000000e-01, 9.00000000e-01,\n",
       "        9.10000000e-01, 0.00000000e+00, 1.08239599e+08, 4.09306981e+10],\n",
       "       [2.00000000e+05, 1.00000000e+05, 1.00000000e-01, 9.00000000e-01,\n",
       "        9.10000000e-01, 3.00000000e+00, 3.41248000e+08, 1.12773133e+11],\n",
       "       [4.00000000e+05, 1.00000000e+05, 1.00000000e-01, 9.00000000e-01,\n",
       "        9.10000000e-01, 2.00000000e+00, 5.69190999e+08, 1.98735637e+11],\n",
       "       [6.00000000e+05, 1.00000000e+05, 1.00000000e-01, 9.00000000e-01,\n",
       "        9.10000000e-01, 1.00000000e+00, 7.94468000e+08, 2.87682728e+11],\n",
       "       [8.00000000e+05, 1.00000000e+05, 1.00000000e-01, 9.00000000e-01,\n",
       "        9.10000000e-01, 0.00000000e+00, 1.01707900e+09, 3.76347223e+11]])"
      ]
     },
     "execution_count": 58,
     "metadata": {},
     "output_type": "execute_result"
    }
   ],
   "source": [
    "# for name_csv_file in names_csv_file[:1]:\n",
    "name_csv_file = names_csv_file[0]\n",
    "path_inputs_csv_file = path_inputs_pnnl_folder / name_csv_file\n",
    "path_outputs_csv_file = path_outputs_pnnl_folder / name_csv_file\n",
    "\n",
    "# per_csv(name_csv_file, path_inputs_csv_file, path_outputs_csv_file)\n",
    "# print(pd.read_csv(path_inputs_csv_file))\n",
    "pd.read_csv(path_inputs_csv_file, header=0).to_numpy()"
   ]
  }
 ],
 "metadata": {
  "kernelspec": {
   "display_name": "base",
   "language": "python",
   "name": "python3"
  },
  "language_info": {
   "codemirror_mode": {
    "name": "ipython",
    "version": 3
   },
   "file_extension": ".py",
   "mimetype": "text/x-python",
   "name": "python",
   "nbconvert_exporter": "python",
   "pygments_lexer": "ipython3",
   "version": "3.12.2"
  }
 },
 "nbformat": 4,
 "nbformat_minor": 5
}
