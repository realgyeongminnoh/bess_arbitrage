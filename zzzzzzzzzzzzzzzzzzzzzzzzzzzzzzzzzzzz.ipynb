{
 "cells": [
  {
   "cell_type": "code",
   "execution_count": 1,
   "id": "9fec9876",
   "metadata": {},
   "outputs": [],
   "source": [
    "import numpy as np\n",
    "import gurobipy as gp"
   ]
  },
  {
   "cell_type": "code",
   "execution_count": 2,
   "id": "e2594b7b",
   "metadata": {},
   "outputs": [],
   "source": [
    "count_units = 3\n",
    "count_times = 6\n",
    "\n",
    "costs_startup_const = [800, 500, 250]\n",
    "costs_generation = [5, 15, 30]\n",
    "power_outputs_minimum = [80, 50, 30]\n",
    "power_outputs_maximum = [300, 200, 100]\n",
    "startups = [100, 70, 40]\n",
    "startdowns = [80, 50, 30]\n",
    "rampups = [50, 60, 70]\n",
    "rampdowns = [30, 40, 50]\n",
    "minimumups = [3, 2, 1]\n",
    "minimumdowns = [2, 2, 2]\n",
    "commitments_initial = [1, 0, 0]\n",
    "power_outputs_initial = [120, 0, 0]\n",
    "minimumups_initial  = [2, 0, 0]\n",
    "minimumdowns_initial  = [0, 0, 0]\n",
    "demands = [220, 250, 200, 170, 230, 190]\n",
    "reserves = [10, 10, 10, 10, 10, 10]"
   ]
  },
  {
   "cell_type": "code",
   "execution_count": 3,
   "id": "d0e5c067",
   "metadata": {},
   "outputs": [
    {
     "name": "stdout",
     "output_type": "stream",
     "text": [
      "Set parameter Username\n",
      "Set parameter LicenseID to value 2659802\n",
      "Academic license - for non-commercial use only - expires 2026-05-01\n"
     ]
    }
   ],
   "source": [
    "model = gp.Model()\n",
    "model.setParam(\"OutputFlag\", 0)"
   ]
  },
  {
   "cell_type": "code",
   "execution_count": 4,
   "id": "5a01074b",
   "metadata": {},
   "outputs": [],
   "source": [
    "commitments = model.addVars(range(count_units), range(count_times), vtype=gp.GRB.BINARY)\n",
    "power_outputs = model.addVars(\n",
    "    range(count_units), range(count_times), lb=0,\n",
    "    ub=np.tile(np.array(power_outputs_maximum)[:, None], (1, count_times))\n",
    ")\n",
    "power_outputs_bars = model.addVars(\n",
    "    range(count_units), range(count_times), lb=0,\n",
    "    ub=np.tile(np.array(power_outputs_maximum)[:, None], (1, count_times))\n",
    ")\n",
    "costs_startup = model.addVars(\n",
    "    range(count_units), range(count_times), lb=0)"
   ]
  },
  {
   "cell_type": "code",
   "execution_count": 5,
   "id": "7587bea3",
   "metadata": {},
   "outputs": [
    {
     "data": {
      "text/plain": [
       "{(0, 0): <gurobi.Constr *Awaiting Model Update*>,\n",
       " (0, 1): <gurobi.Constr *Awaiting Model Update*>,\n",
       " (0, 2): <gurobi.Constr *Awaiting Model Update*>,\n",
       " (0, 3): <gurobi.Constr *Awaiting Model Update*>,\n",
       " (0, 4): <gurobi.Constr *Awaiting Model Update*>,\n",
       " (0, 5): <gurobi.Constr *Awaiting Model Update*>,\n",
       " (1, 0): <gurobi.Constr *Awaiting Model Update*>,\n",
       " (1, 1): <gurobi.Constr *Awaiting Model Update*>,\n",
       " (1, 2): <gurobi.Constr *Awaiting Model Update*>,\n",
       " (1, 3): <gurobi.Constr *Awaiting Model Update*>,\n",
       " (1, 4): <gurobi.Constr *Awaiting Model Update*>,\n",
       " (1, 5): <gurobi.Constr *Awaiting Model Update*>,\n",
       " (2, 0): <gurobi.Constr *Awaiting Model Update*>,\n",
       " (2, 1): <gurobi.Constr *Awaiting Model Update*>,\n",
       " (2, 2): <gurobi.Constr *Awaiting Model Update*>,\n",
       " (2, 3): <gurobi.Constr *Awaiting Model Update*>,\n",
       " (2, 4): <gurobi.Constr *Awaiting Model Update*>,\n",
       " (2, 5): <gurobi.Constr *Awaiting Model Update*>}"
      ]
     },
     "execution_count": 5,
     "metadata": {},
     "output_type": "execute_result"
    }
   ],
   "source": [
    "model.addConstrs(\n",
    "    power_outputs[i, t] >= power_outputs_minimum[i] * commitments[i, t]\n",
    "    for i in range(count_units) for t in range(count_times)\n",
    ")\n",
    "\n",
    "model.addConstrs(\n",
    "    power_outputs[i, t] <= power_outputs_maximum[i] * commitments[i, t]\n",
    "    for i in range(count_units) for t in range(count_times)\n",
    ")\n",
    "\n",
    "model.addConstrs(\n",
    "    power_outputs[i, t] <= power_outputs_bars[i, t]\n",
    "    for i in range(count_units) for t in range(count_times)\n",
    ")"
   ]
  },
  {
   "cell_type": "code",
   "execution_count": 6,
   "id": "53ce8d8e",
   "metadata": {},
   "outputs": [
    {
     "data": {
      "text/plain": [
       "{0: <gurobi.Constr *Awaiting Model Update*>,\n",
       " 1: <gurobi.Constr *Awaiting Model Update*>,\n",
       " 2: <gurobi.Constr *Awaiting Model Update*>,\n",
       " 3: <gurobi.Constr *Awaiting Model Update*>,\n",
       " 4: <gurobi.Constr *Awaiting Model Update*>,\n",
       " 5: <gurobi.Constr *Awaiting Model Update*>}"
      ]
     },
     "execution_count": 6,
     "metadata": {},
     "output_type": "execute_result"
    }
   ],
   "source": [
    "model.addConstrs(\n",
    "    gp.quicksum(power_outputs[i, t] for i in range(count_units)) == demands[t]\n",
    "    for t in range(count_times)\n",
    ")\n",
    "\n",
    "model.addConstrs(\n",
    "    gp.quicksum(power_outputs_bars[i, t] for i in range(count_units)) >= demands[t] + reserves[t]\n",
    "    for t in range(count_times)\n",
    ")"
   ]
  },
  {
   "cell_type": "code",
   "execution_count": 7,
   "id": "41a6f582",
   "metadata": {},
   "outputs": [
    {
     "data": {
      "text/plain": [
       "{(0, 1, 0): <gurobi.Constr *Awaiting Model Update*>,\n",
       " (0, 2, 0): <gurobi.Constr *Awaiting Model Update*>,\n",
       " (0, 2, 1): <gurobi.Constr *Awaiting Model Update*>,\n",
       " (0, 3, 0): <gurobi.Constr *Awaiting Model Update*>,\n",
       " (0, 3, 1): <gurobi.Constr *Awaiting Model Update*>,\n",
       " (0, 3, 2): <gurobi.Constr *Awaiting Model Update*>,\n",
       " (0, 4, 0): <gurobi.Constr *Awaiting Model Update*>,\n",
       " (0, 4, 1): <gurobi.Constr *Awaiting Model Update*>,\n",
       " (0, 4, 2): <gurobi.Constr *Awaiting Model Update*>,\n",
       " (0, 4, 3): <gurobi.Constr *Awaiting Model Update*>,\n",
       " (0, 5, 0): <gurobi.Constr *Awaiting Model Update*>,\n",
       " (0, 5, 1): <gurobi.Constr *Awaiting Model Update*>,\n",
       " (0, 5, 2): <gurobi.Constr *Awaiting Model Update*>,\n",
       " (0, 5, 3): <gurobi.Constr *Awaiting Model Update*>,\n",
       " (0, 5, 4): <gurobi.Constr *Awaiting Model Update*>,\n",
       " (1, 1, 0): <gurobi.Constr *Awaiting Model Update*>,\n",
       " (1, 2, 0): <gurobi.Constr *Awaiting Model Update*>,\n",
       " (1, 2, 1): <gurobi.Constr *Awaiting Model Update*>,\n",
       " (1, 3, 0): <gurobi.Constr *Awaiting Model Update*>,\n",
       " (1, 3, 1): <gurobi.Constr *Awaiting Model Update*>,\n",
       " (1, 3, 2): <gurobi.Constr *Awaiting Model Update*>,\n",
       " (1, 4, 0): <gurobi.Constr *Awaiting Model Update*>,\n",
       " (1, 4, 1): <gurobi.Constr *Awaiting Model Update*>,\n",
       " (1, 4, 2): <gurobi.Constr *Awaiting Model Update*>,\n",
       " (1, 4, 3): <gurobi.Constr *Awaiting Model Update*>,\n",
       " (1, 5, 0): <gurobi.Constr *Awaiting Model Update*>,\n",
       " (1, 5, 1): <gurobi.Constr *Awaiting Model Update*>,\n",
       " (1, 5, 2): <gurobi.Constr *Awaiting Model Update*>,\n",
       " (1, 5, 3): <gurobi.Constr *Awaiting Model Update*>,\n",
       " (1, 5, 4): <gurobi.Constr *Awaiting Model Update*>,\n",
       " (2, 1, 0): <gurobi.Constr *Awaiting Model Update*>,\n",
       " (2, 2, 0): <gurobi.Constr *Awaiting Model Update*>,\n",
       " (2, 2, 1): <gurobi.Constr *Awaiting Model Update*>,\n",
       " (2, 3, 0): <gurobi.Constr *Awaiting Model Update*>,\n",
       " (2, 3, 1): <gurobi.Constr *Awaiting Model Update*>,\n",
       " (2, 3, 2): <gurobi.Constr *Awaiting Model Update*>,\n",
       " (2, 4, 0): <gurobi.Constr *Awaiting Model Update*>,\n",
       " (2, 4, 1): <gurobi.Constr *Awaiting Model Update*>,\n",
       " (2, 4, 2): <gurobi.Constr *Awaiting Model Update*>,\n",
       " (2, 4, 3): <gurobi.Constr *Awaiting Model Update*>,\n",
       " (2, 5, 0): <gurobi.Constr *Awaiting Model Update*>,\n",
       " (2, 5, 1): <gurobi.Constr *Awaiting Model Update*>,\n",
       " (2, 5, 2): <gurobi.Constr *Awaiting Model Update*>,\n",
       " (2, 5, 3): <gurobi.Constr *Awaiting Model Update*>,\n",
       " (2, 5, 4): <gurobi.Constr *Awaiting Model Update*>}"
      ]
     },
     "execution_count": 7,
     "metadata": {},
     "output_type": "execute_result"
    }
   ],
   "source": [
    "#\n",
    "# t = 0 -> costs_startup lb\n",
    "model.addConstrs(\n",
    "    costs_startup[i, t] >= costs_startup_const[i] * (\n",
    "        commitments[i, t] - gp.quicksum(commitments[i, t-n] for n in range(tau))\n",
    "    )\n",
    "    for i in range(count_units) for t in range(1, count_times) for tau in range(t)\n",
    ") "
   ]
  },
  {
   "cell_type": "code",
   "execution_count": 8,
   "id": "5f7e75f3",
   "metadata": {},
   "outputs": [
    {
     "data": {
      "text/plain": [
       "{0: <gurobi.Constr *Awaiting Model Update*>,\n",
       " 1: <gurobi.Constr *Awaiting Model Update*>,\n",
       " 2: <gurobi.Constr *Awaiting Model Update*>}"
      ]
     },
     "execution_count": 8,
     "metadata": {},
     "output_type": "execute_result"
    }
   ],
   "source": [
    "#\n",
    "model.addConstrs(\n",
    "    power_outputs_bars[i, t] <= (\n",
    "        power_outputs[i, t-1]\n",
    "        + rampups[i] * commitments[i, t-1]\n",
    "        + startups[i] * (commitments[i, t] - commitments[i, t-1])\n",
    "        + power_outputs_maximum[i] * (1 - commitments[i, t])\n",
    "    )\n",
    "    for i in range(count_units) for t in range(1, count_times)\n",
    ")\n",
    "\n",
    "model.addConstrs(\n",
    "    power_outputs_bars[i, 0] <= (\n",
    "        power_outputs_initial[i] \n",
    "        + rampups[i] * commitments_initial[i]\n",
    "        + startups[i] * (commitments[i, 0] - commitments_initial[i])\n",
    "        + power_outputs_maximum[i] * (1 - commitments[i, 0])\n",
    "    )\n",
    "    for i in range(count_units)\n",
    ")"
   ]
  },
  {
   "cell_type": "code",
   "execution_count": 9,
   "id": "7c593060",
   "metadata": {},
   "outputs": [
    {
     "data": {
      "text/plain": [
       "{(0, 0): <gurobi.Constr *Awaiting Model Update*>,\n",
       " (0, 1): <gurobi.Constr *Awaiting Model Update*>,\n",
       " (0, 2): <gurobi.Constr *Awaiting Model Update*>,\n",
       " (0, 3): <gurobi.Constr *Awaiting Model Update*>,\n",
       " (0, 4): <gurobi.Constr *Awaiting Model Update*>,\n",
       " (1, 0): <gurobi.Constr *Awaiting Model Update*>,\n",
       " (1, 1): <gurobi.Constr *Awaiting Model Update*>,\n",
       " (1, 2): <gurobi.Constr *Awaiting Model Update*>,\n",
       " (1, 3): <gurobi.Constr *Awaiting Model Update*>,\n",
       " (1, 4): <gurobi.Constr *Awaiting Model Update*>,\n",
       " (2, 0): <gurobi.Constr *Awaiting Model Update*>,\n",
       " (2, 1): <gurobi.Constr *Awaiting Model Update*>,\n",
       " (2, 2): <gurobi.Constr *Awaiting Model Update*>,\n",
       " (2, 3): <gurobi.Constr *Awaiting Model Update*>,\n",
       " (2, 4): <gurobi.Constr *Awaiting Model Update*>}"
      ]
     },
     "execution_count": 9,
     "metadata": {},
     "output_type": "execute_result"
    }
   ],
   "source": [
    "model.addConstrs(\n",
    "    power_outputs_bars[i, t] <= (\n",
    "        power_outputs_maximum[i] * commitments[i, t+1]\n",
    "        + startdowns[i] * (commitments[i, t] - commitments[i, t+1])\n",
    "    )\n",
    "    for i in range(count_units) for t in range(count_times - 1)\n",
    ")"
   ]
  },
  {
   "cell_type": "code",
   "execution_count": 10,
   "id": "a746c857",
   "metadata": {},
   "outputs": [
    {
     "data": {
      "text/plain": [
       "{0: <gurobi.Constr *Awaiting Model Update*>,\n",
       " 1: <gurobi.Constr *Awaiting Model Update*>,\n",
       " 2: <gurobi.Constr *Awaiting Model Update*>}"
      ]
     },
     "execution_count": 10,
     "metadata": {},
     "output_type": "execute_result"
    }
   ],
   "source": [
    "model.addConstrs(\n",
    "    power_outputs[i, t-1] - power_outputs[i, t] <= (\n",
    "        rampdowns[i] * commitments[i, t] \n",
    "        + startdowns[i] * (commitments[i, t-1] - commitments[i, t])\n",
    "        +  power_outputs_maximum[i] * (1 - commitments[i, t-1])\n",
    "    )\n",
    "    for i in range(count_units) for t in range(1, count_times)\n",
    ")\n",
    "\n",
    "model.addConstrs(\n",
    "    power_outputs_initial[i] - power_outputs[i, 0] <= (\n",
    "        rampdowns[i] * commitments_initial[i] \n",
    "        + startdowns[i] * (commitments_initial[i] - commitments[i, 0])\n",
    "        +  power_outputs_maximum[i] * (1 - commitments_initial[i])\n",
    "    )\n",
    "    for i in range(count_units)\n",
    ")"
   ]
  },
  {
   "cell_type": "code",
   "execution_count": null,
   "id": "4711f5be",
   "metadata": {},
   "outputs": [],
   "source": []
  }
 ],
 "metadata": {
  "kernelspec": {
   "display_name": "base",
   "language": "python",
   "name": "python3"
  },
  "language_info": {
   "codemirror_mode": {
    "name": "ipython",
    "version": 3
   },
   "file_extension": ".py",
   "mimetype": "text/x-python",
   "name": "python",
   "nbconvert_exporter": "python",
   "pygments_lexer": "ipython3",
   "version": "3.12.2"
  }
 },
 "nbformat": 4,
 "nbformat_minor": 5
}
